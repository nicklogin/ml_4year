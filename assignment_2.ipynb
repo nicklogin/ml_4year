{
 "cells": [
  {
   "cell_type": "markdown",
   "metadata": {},
   "source": [
    "# Assignment 2"
   ]
  },
  {
   "cell_type": "markdown",
   "metadata": {},
   "source": [
    "Demostrate consequences of No Free Lunch Theorem: every model of machine learning makes **assumptions** about dataset properties. If the assumption fails, model perfoms badly. If the assumption is met, model perfoms good.\n",
    "\n",
    "For each of the tasks, described below:\n",
    "1. create a dataset to meet the description. For demonstration purposes, feature dimension size = 2    \n",
    "1. train the models and evaluate accuracy. (with a training pipeline, described in the seminar) \n",
    "1. Show which model is better.   \n",
    "1. Write what assumptions were used, and why model exibits such behavior.  \n",
    "1. Plot dataset to demonstrate its properties. (Scatter plot, classes with different colors)  \n",
    "\n",
    "\n",
    "Tasks:\n",
    "\n",
    "1. Create dataset for binary classification task (binary crossentropy), \n",
    "where k-NN perfoms **worse** than logistic regression\n",
    "\n",
    "2. Create dataset for binary classification task (binary crossentropy), \n",
    "where logistic regression perfoms **worse** than k-NN\n",
    "\n",
    "3. Create dataset for binary classification task (binary crossentropy), \n",
    "where k-NN with cosine distance perfoms **better** than k-NN with euclidean distance\n",
    "\n",
    "\n",
    "! If there is no explanation, why one model perfoms better than the other on your dataset, the task does not count.  \n",
    "! if the training pipeline is not used, the task does not count.  "
   ]
  },
  {
   "cell_type": "markdown",
   "metadata": {},
   "source": [
    "Import necessary packages:"
   ]
  },
  {
   "cell_type": "code",
   "execution_count": 61,
   "metadata": {},
   "outputs": [],
   "source": [
    "import numpy as np\n",
    "import random\n",
    "import matplotlib.pyplot as plt"
   ]
  },
  {
   "cell_type": "markdown",
   "metadata": {},
   "source": [
    "Import necessary tools from Scikit-Learn:"
   ]
  },
  {
   "cell_type": "code",
   "execution_count": 38,
   "metadata": {},
   "outputs": [],
   "source": [
    "from sklearn.model_selection import train_test_split\n",
    "from sklearn.linear_model import LogisticRegression\n",
    "from sklearn.model_selection import GridSearchCV\n",
    "from sklearn.neighbors import KNeighborsClassifier"
   ]
  },
  {
   "cell_type": "markdown",
   "metadata": {},
   "source": [
    "Define fucntion for training-validation-testing routine:"
   ]
  },
  {
   "cell_type": "code",
   "execution_count": 56,
   "metadata": {},
   "outputs": [],
   "source": [
    "def training_pipeline(clf, X, y, param_dict):\n",
    "    X_train, X_test, y_train, y_test = train_test_split(X, y, random_state=42)\n",
    "    ## training:\n",
    "    clf.fit(X_train, y_train)\n",
    "    print(\"Accuracy on training subsample w/o regularization: \", clf.score(X_train, y_train))\n",
    "    # validation:\n",
    "    validator = GridSearchCV(clf,\n",
    "                             param_grid = param_dict,\n",
    "                             cv = 5)\n",
    "    validator.fit(X_train, y_train)\n",
    "    print(\"Best mean accuracy on cross-validation of testing subsample after regularization: \", validator.best_score_)\n",
    "    print(\"Best hyperparams: \", validator.best_params_)\n",
    "    clf = validator.best_estimator_\n",
    "    ## testing:\n",
    "    print(\"Accuracy on testing subsample: \", clf.score(X_test, y_test))"
   ]
  },
  {
   "cell_type": "markdown",
   "metadata": {},
   "source": [
    "## 1. Create dataset for binary classification task (binary crossentropy), where k-NN perfoms **worse** than logistic regression"
   ]
  },
  {
   "cell_type": "markdown",
   "metadata": {},
   "source": [
    "<b>Решение: </b>Так как логистическая регрессия классифицирует точки на основе значения экспоненты от многочлена $a_1*x_1 + ... + a_m*x_m$, то наилучший результат для неё будет достигаться на линейно разделимой выборке. Метод $K$ ближайших соседей же присваивает метки классов на основе меток классов наиболее близких объектов в обучающей выборке. Для того, чтобы решить эту задачу, нам нужно сгенерировать выборку, которая будет линейно разделима, но в то же время в которой часто будут близки друг к другу объекты разных классов. Примером такой выборки может быть выборка, в которой точки в пространстве признаков $(X1, X2)$, соответствующие объектам, лежат разреженно на довольно близких друг к другу двух параллельных прямых, причём на каждой прямой лежат только точки одного класса."
   ]
  },
  {
   "cell_type": "code",
   "execution_count": 6,
   "metadata": {},
   "outputs": [],
   "source": [
    "from numpy import vectorize"
   ]
  },
  {
   "cell_type": "code",
   "execution_count": 7,
   "metadata": {},
   "outputs": [],
   "source": [
    "import random"
   ]
  },
  {
   "cell_type": "code",
   "execution_count": 43,
   "metadata": {},
   "outputs": [],
   "source": [
    "X1 = [(x, 2*x + 5) for x in range(0, 100, 5)]\n",
    "X0 = [(x, z+2.5) for x, z in X1]\n",
    "X = np.array(X1+X0)\n",
    "y = np.array([1 for i in range(20)] + [0 for i in range(20)])"
   ]
  },
  {
   "cell_type": "code",
   "execution_count": 44,
   "metadata": {},
   "outputs": [
    {
     "data": {
      "image/png": "[encoded data removed]",
      "text/plain": [
       "<Figure size 432x288 with 1 Axes>"
      ]
     },
     "metadata": {
      "needs_background": "light"
     },
     "output_type": "display_data"
    }
   ],
   "source": [
    "plt.figure()\n",
    "color = [\"red\" if i==1 else \"blue\" for i in y]\n",
    "#label = [\"class = 1\" if i==1 else \"class = 0\" for i in y]\n",
    "plt.scatter([i[0] for i in X],\n",
    "            [i[1] for i in X]\n",
    "            , color=color)\n",
    "plt.show()"
   ]
  },
  {
   "cell_type": "code",
   "execution_count": 57,
   "metadata": {},
   "outputs": [
    {
     "name": "stdout",
     "output_type": "stream",
     "text": [
      "Accuracy on training subsample w/o regularization:  0.8333333333333334\n",
      "Best mean accuracy on cross-validation of testing subsample after regularization:  0.8333333333333334\n",
      "Best hyperparams:  {'C': 0.85}\n",
      "Accuracy on testing subsample:  0.8\n"
     ]
    },
    {
     "name": "stderr",
     "output_type": "stream",
     "text": [
      "C:\\ProgramData\\Anaconda3\\lib\\site-packages\\sklearn\\model_selection\\_search.py:841: DeprecationWarning: The default of the `iid` parameter will change from True to False in version 0.22 and will be removed in 0.24. This will change numeric results when test-set sizes are unequal.\n",
      "  DeprecationWarning)\n"
     ]
    }
   ],
   "source": [
    "training_pipeline(LogisticRegression(solver='liblinear'), X, y,\n",
    "                 {'C': np.arange(.01,1,.01)})"
   ]
  },
  {
   "cell_type": "code",
   "execution_count": 60,
   "metadata": {},
   "outputs": [
    {
     "name": "stdout",
     "output_type": "stream",
     "text": [
      "Accuracy on training subsample w/o regularization:  0.7\n",
      "Best mean accuracy on cross-validation of testing subsample after regularization:  0.4666666666666667\n",
      "Best hyperparams:  {'n_neighbors': 4}\n",
      "Accuracy on testing subsample:  0.2\n"
     ]
    },
    {
     "name": "stderr",
     "output_type": "stream",
     "text": [
      "C:\\ProgramData\\Anaconda3\\lib\\site-packages\\sklearn\\model_selection\\_search.py:841: DeprecationWarning: The default of the `iid` parameter will change from True to False in version 0.22 and will be removed in 0.24. This will change numeric results when test-set sizes are unequal.\n",
      "  DeprecationWarning)\n"
     ]
    }
   ],
   "source": [
    "training_pipeline(KNeighborsClassifier(), X, y,\n",
    "                 {'n_neighbors': range(1, 10)})"
   ]
  },
  {
   "cell_type": "markdown",
   "metadata": {},
   "source": [
    "Как и следовало ожидать, логистическая регрессия справляется лучше по accuracy"
   ]
  },
  {
   "cell_type": "markdown",
   "metadata": {},
   "source": [
    "## 2. Create dataset for binary classification task (binary crossentropy), where logistic regression perfoms **worse** than k-NN"
   ]
  },
  {
   "cell_type": "markdown",
   "metadata": {},
   "source": [
    "<b>Решение: </b>Логистическая регрессия хорошо справляется с линейно разделимыми выборками, а Метод $K$ ближайших соседей - с выборками, в которых оюъекты одного класса лежат близко друг к другу. Соответственно для того, чтобы получить датасет, на которой KNN будет справляться лучше логистиечкой регрессии, сгенерируем линейно неразделимую выборку, на которой, однако, будут наблюдаться устойчивые скопления объектов одного класса. Для этого разделим координатную плоскость на четыре квадрата и присвоим класс 1 точкам в левом нижнем и правом верхнем квадратах, а точкам в правом нижнем и левом верхнем квадратах - класс 0. Так как точки класса 1 нельзя будет отделить от точек класса 1 только одной прямой, наша выборка будет линейно неразделима."
   ]
  },
  {
   "cell_type": "code",
   "execution_count": 74,
   "metadata": {},
   "outputs": [],
   "source": [
    "X_1 = [(random.uniform(0,2), random.uniform(0,2)) for i in range(100)]\n",
    "y_1 = [1 for i in range(100)]\n",
    "X_2 = [(random.uniform(2,4), random.uniform(2,4)) for i in range(100)]\n",
    "y_2 = [1 for i in range(100)]\n",
    "X_3 = [(random.uniform(0,2), random.uniform(2,4)) for i in range(100)]\n",
    "y_3 = [0 for i in range(100)]\n",
    "X_4 = [(random.uniform(2,4), random.uniform(0,2)) for i in range(100)]\n",
    "y_4 = [0 for i in range(100)]\n",
    "X = np.array(X_1+X_2+X_3+X_4)\n",
    "y = np.array(y_1+y_2+y_3+y_4)"
   ]
  },
  {
   "cell_type": "code",
   "execution_count": 75,
   "metadata": {},
   "outputs": [
    {
     "data": {
      "image/png": "[encoded data removed]",
      "text/plain": [
       "<Figure size 432x288 with 1 Axes>"
      ]
     },
     "metadata": {
      "needs_background": "light"
     },
     "output_type": "display_data"
    }
   ],
   "source": [
    "plt.figure()\n",
    "plt.scatter([i[0] for i in X_1],\n",
    "            [i[1] for i in X_1],\n",
    "            color=\"red\", label=\"class = 1\")\n",
    "plt.scatter([i[0] for i in X_2],\n",
    "            [i[1] for i in X_2], color=\"red\")\n",
    "plt.scatter([i[0] for i in X_3],\n",
    "            [i[1] for i in X_3], color=\"blue\", label=\"class = 0\")\n",
    "plt.scatter([i[0] for i in X_4],\n",
    "            [i[1] for i in X_4], color=\"blue\")\n",
    "plt.legend()\n",
    "plt.show()"
   ]
  },
  {
   "cell_type": "code",
   "execution_count": 65,
   "metadata": {},
   "outputs": [
    {
     "name": "stdout",
     "output_type": "stream",
     "text": [
      "Accuracy on training subsample w/o regularization:  0.5766666666666667\n",
      "Best mean accuracy on cross-validation of testing subsample after regularization:  0.58\n",
      "Best hyperparams:  {'C': 0.7000000000000001}\n",
      "Accuracy on testing subsample:  0.47\n"
     ]
    },
    {
     "name": "stderr",
     "output_type": "stream",
     "text": [
      "C:\\ProgramData\\Anaconda3\\lib\\site-packages\\sklearn\\model_selection\\_search.py:841: DeprecationWarning: The default of the `iid` parameter will change from True to False in version 0.22 and will be removed in 0.24. This will change numeric results when test-set sizes are unequal.\n",
      "  DeprecationWarning)\n"
     ]
    }
   ],
   "source": [
    "training_pipeline(LogisticRegression(solver='liblinear'), X, y,\n",
    "                 {'C': np.arange(.01,1,.01)})"
   ]
  },
  {
   "cell_type": "code",
   "execution_count": 66,
   "metadata": {},
   "outputs": [
    {
     "name": "stdout",
     "output_type": "stream",
     "text": [
      "Accuracy on training subsample w/o regularization:  0.9933333333333333\n",
      "Best mean accuracy on cross-validation of testing subsample after regularization:  0.97\n",
      "Best hyperparams:  {'n_neighbors': 5}\n",
      "Accuracy on testing subsample:  0.94\n"
     ]
    },
    {
     "name": "stderr",
     "output_type": "stream",
     "text": [
      "C:\\ProgramData\\Anaconda3\\lib\\site-packages\\sklearn\\model_selection\\_search.py:841: DeprecationWarning: The default of the `iid` parameter will change from True to False in version 0.22 and will be removed in 0.24. This will change numeric results when test-set sizes are unequal.\n",
      "  DeprecationWarning)\n"
     ]
    }
   ],
   "source": [
    "training_pipeline(KNeighborsClassifier(), X, y,\n",
    "                 {'n_neighbors': range(1, 10)})"
   ]
  },
  {
   "cell_type": "markdown",
   "metadata": {},
   "source": [
    "Как и следовало ожидать, KNN справляется лучше по accuracy"
   ]
  },
  {
   "cell_type": "markdown",
   "metadata": {},
   "source": [
    "## 3. Create dataset for binary classification task (binary crossentropy), where k-NN with cosine distance perfoms **better** than k-NN with euclidean distance"
   ]
  },
  {
   "cell_type": "markdown",
   "metadata": {},
   "source": [
    "<b>Решение: </b>Для евклидова расстояния важны конкретные значения векторов измерений, а для косинусного расстояния - только направление векторов (Так, между векторами [1,2] и [2,4] косинусное расстояние будет равно нулю. Соответственно, в выборке. на которой KNN с косинусным расстоянием будет справляться хорошо, а KNN с евклидовым расстоянием - плохо, точки двух классов должны лежать достаточно близко друг к другу, но на разнонаправленных векторах:"
   ]
  },
  {
   "cell_type": "code",
   "execution_count": 105,
   "metadata": {},
   "outputs": [],
   "source": [
    "np.random.seed(42)\n",
    "## (1, 2) - направление вектора для класса 1:\n",
    "X_1 = [(1*k , 2*k) for k in np.random.normal(0, 1, size=(100, ))]\n",
    "y_1 = [1 for i in range(100)]\n",
    "## используем тот же параметр для ГСЧ, чтобы получить то же распределение, что и в X_1:\n",
    "np.random.seed(42)\n",
    "## (0.95, 2.05) - направление вектора для класса 0:\n",
    "X_2 = [(0.95*k , 2.05*k ) for k in np.random.normal(0, 1, size=(100, ))]\n",
    "y_2 = [0 for i in range(100)]"
   ]
  },
  {
   "cell_type": "code",
   "execution_count": 106,
   "metadata": {},
   "outputs": [
    {
     "data": {
      "image/png": "[encoded data removed]",
      "text/plain": [
       "<Figure size 432x288 with 1 Axes>"
      ]
     },
     "metadata": {
      "needs_background": "light"
     },
     "output_type": "display_data"
    }
   ],
   "source": [
    "plt.figure()\n",
    "plt.scatter([i[0] for i in X_1],\n",
    "            [i[1] for i in X_1],\n",
    "            color=\"red\", label=\"class = 1\")\n",
    "plt.scatter([i[0] for i in X_2],\n",
    "            [i[1] for i in X_2], color=\"blue\", label=\"class = 0\")\n",
    "plt.legend()\n",
    "plt.show()"
   ]
  },
  {
   "cell_type": "code",
   "execution_count": 107,
   "metadata": {},
   "outputs": [],
   "source": [
    "X = np.array(X_1 + X_2)\n",
    "y = np.array(y_1 + y_2)"
   ]
  },
  {
   "cell_type": "code",
   "execution_count": 108,
   "metadata": {},
   "outputs": [
    {
     "name": "stdout",
     "output_type": "stream",
     "text": [
      "Accuracy on training subsample w/o regularization:  0.6466666666666666\n",
      "Best mean accuracy on cross-validation of testing subsample after regularization:  0.5333333333333333\n",
      "Best hyperparams:  {'n_neighbors': 1}\n",
      "Accuracy on testing subsample:  0.56\n"
     ]
    },
    {
     "name": "stderr",
     "output_type": "stream",
     "text": [
      "C:\\ProgramData\\Anaconda3\\lib\\site-packages\\sklearn\\model_selection\\_search.py:841: DeprecationWarning: The default of the `iid` parameter will change from True to False in version 0.22 and will be removed in 0.24. This will change numeric results when test-set sizes are unequal.\n",
      "  DeprecationWarning)\n"
     ]
    }
   ],
   "source": [
    "training_pipeline(KNeighborsClassifier(metric=\"euclidean\"), X, y,\n",
    "                 {'n_neighbors': range(1, 10)})"
   ]
  },
  {
   "cell_type": "code",
   "execution_count": 109,
   "metadata": {},
   "outputs": [
    {
     "name": "stdout",
     "output_type": "stream",
     "text": [
      "Accuracy on training subsample w/o regularization:  1.0\n",
      "Best mean accuracy on cross-validation of testing subsample after regularization:  1.0\n",
      "Best hyperparams:  {'n_neighbors': 1}\n",
      "Accuracy on testing subsample:  1.0\n"
     ]
    }
   ],
   "source": [
    "training_pipeline(KNeighborsClassifier(metric=\"cosine\"), X, y,\n",
    "                 {'n_neighbors': range(1, 10)})"
   ]
  },
  {
   "cell_type": "markdown",
   "metadata": {},
   "source": [
    "Как и следовало ожидать, KNN с косинусным расстоянием справляется лучше по accuracy"
   ]
  }
 ],
 "metadata": {
  "kernelspec": {
   "display_name": "Python 3",
   "language": "python",
   "name": "python3"
  },
  "language_info": {
   "codemirror_mode": {
    "name": "ipython",
    "version": 3
   },
   "file_extension": ".py",
   "mimetype": "text/x-python",
   "name": "python",
   "nbconvert_exporter": "python",
   "pygments_lexer": "ipython3",
   "version": "3.7.3"
  },
  "widgets": {
   "state": {},
   "version": "1.1.2"
  }
 },
 "nbformat": 4,
 "nbformat_minor": 2
}
